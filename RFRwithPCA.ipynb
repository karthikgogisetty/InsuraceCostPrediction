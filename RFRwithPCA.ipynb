{
 "cells": [
  {
   "cell_type": "code",
   "execution_count": 1,
   "metadata": {},
   "outputs": [
    {
     "data": {
      "text/html": [
       "        <script type=\"text/javascript\">\n",
       "        window.PlotlyConfig = {MathJaxConfig: 'local'};\n",
       "        if (window.MathJax) {MathJax.Hub.Config({SVG: {font: \"STIX-Web\"}});}\n",
       "        if (typeof require !== 'undefined') {\n",
       "        require.undef(\"plotly\");\n",
       "        requirejs.config({\n",
       "            paths: {\n",
       "                'plotly': ['https://cdn.plot.ly/plotly-latest.min']\n",
       "            }\n",
       "        });\n",
       "        require(['plotly'], function(Plotly) {\n",
       "            window._Plotly = Plotly;\n",
       "        });\n",
       "        }\n",
       "        </script>\n",
       "        "
      ]
     },
     "metadata": {},
     "output_type": "display_data"
    }
   ],
   "source": [
    "import numpy as np # linear algebra\n",
    "import pandas as pd # data processing, CSV file I/O (e.g. pd.read_csv)\n",
    "\n",
    "import plotly.offline as py\n",
    "py.init_notebook_mode(connected=True)\n",
    "import plotly.graph_objs as go\n",
    "import plotly.tools as tls\n",
    "import seaborn as sns\n",
    "import matplotlib.image as mpimg\n",
    "import matplotlib.pyplot as plt\n",
    "import matplotlib\n",
    "%matplotlib inline\n",
    "\n",
    "# Import the 3 dimensionality reduction methods\n",
    "from sklearn.manifold import TSNE\n",
    "from sklearn.decomposition import PCA"
   ]
  },
  {
   "cell_type": "code",
   "execution_count": 2,
   "metadata": {},
   "outputs": [
    {
     "data": {
      "text/html": [
       "<div>\n",
       "<style scoped>\n",
       "    .dataframe tbody tr th:only-of-type {\n",
       "        vertical-align: middle;\n",
       "    }\n",
       "\n",
       "    .dataframe tbody tr th {\n",
       "        vertical-align: top;\n",
       "    }\n",
       "\n",
       "    .dataframe thead th {\n",
       "        text-align: right;\n",
       "    }\n",
       "</style>\n",
       "<table border=\"1\" class=\"dataframe\">\n",
       "  <thead>\n",
       "    <tr style=\"text-align: right;\">\n",
       "      <th></th>\n",
       "      <th>age</th>\n",
       "      <th>sex</th>\n",
       "      <th>bmi</th>\n",
       "      <th>children</th>\n",
       "      <th>smoker</th>\n",
       "      <th>region</th>\n",
       "      <th>charges</th>\n",
       "    </tr>\n",
       "  </thead>\n",
       "  <tbody>\n",
       "    <tr>\n",
       "      <th>0</th>\n",
       "      <td>19</td>\n",
       "      <td>female</td>\n",
       "      <td>27.900</td>\n",
       "      <td>0</td>\n",
       "      <td>yes</td>\n",
       "      <td>southwest</td>\n",
       "      <td>16884.92400</td>\n",
       "    </tr>\n",
       "    <tr>\n",
       "      <th>1</th>\n",
       "      <td>18</td>\n",
       "      <td>male</td>\n",
       "      <td>33.770</td>\n",
       "      <td>1</td>\n",
       "      <td>no</td>\n",
       "      <td>southeast</td>\n",
       "      <td>1725.55230</td>\n",
       "    </tr>\n",
       "    <tr>\n",
       "      <th>2</th>\n",
       "      <td>28</td>\n",
       "      <td>male</td>\n",
       "      <td>33.000</td>\n",
       "      <td>3</td>\n",
       "      <td>no</td>\n",
       "      <td>southeast</td>\n",
       "      <td>4449.46200</td>\n",
       "    </tr>\n",
       "    <tr>\n",
       "      <th>3</th>\n",
       "      <td>33</td>\n",
       "      <td>male</td>\n",
       "      <td>22.705</td>\n",
       "      <td>0</td>\n",
       "      <td>no</td>\n",
       "      <td>northwest</td>\n",
       "      <td>21984.47061</td>\n",
       "    </tr>\n",
       "    <tr>\n",
       "      <th>4</th>\n",
       "      <td>32</td>\n",
       "      <td>male</td>\n",
       "      <td>28.880</td>\n",
       "      <td>0</td>\n",
       "      <td>no</td>\n",
       "      <td>northwest</td>\n",
       "      <td>3866.85520</td>\n",
       "    </tr>\n",
       "  </tbody>\n",
       "</table>\n",
       "</div>"
      ],
      "text/plain": [
       "   age     sex     bmi  children smoker     region      charges\n",
       "0   19  female  27.900         0    yes  southwest  16884.92400\n",
       "1   18    male  33.770         1     no  southeast   1725.55230\n",
       "2   28    male  33.000         3     no  southeast   4449.46200\n",
       "3   33    male  22.705         0     no  northwest  21984.47061\n",
       "4   32    male  28.880         0     no  northwest   3866.85520"
      ]
     },
     "execution_count": 2,
     "metadata": {},
     "output_type": "execute_result"
    }
   ],
   "source": [
    "df = pd.read_csv('insurance.csv')\n",
    "df.head()"
   ]
  },
  {
   "cell_type": "code",
   "execution_count": 3,
   "metadata": {},
   "outputs": [],
   "source": [
    "X = df.iloc[:,1:6]\n",
    "target = df['charges']"
   ]
  },
  {
   "cell_type": "code",
   "execution_count": 4,
   "metadata": {},
   "outputs": [
    {
     "data": {
      "text/html": [
       "<div>\n",
       "<style scoped>\n",
       "    .dataframe tbody tr th:only-of-type {\n",
       "        vertical-align: middle;\n",
       "    }\n",
       "\n",
       "    .dataframe tbody tr th {\n",
       "        vertical-align: top;\n",
       "    }\n",
       "\n",
       "    .dataframe thead th {\n",
       "        text-align: right;\n",
       "    }\n",
       "</style>\n",
       "<table border=\"1\" class=\"dataframe\">\n",
       "  <thead>\n",
       "    <tr style=\"text-align: right;\">\n",
       "      <th></th>\n",
       "      <th>bmi</th>\n",
       "      <th>children</th>\n",
       "      <th>northwest</th>\n",
       "      <th>southeast</th>\n",
       "      <th>southwest</th>\n",
       "      <th>yes</th>\n",
       "      <th>male</th>\n",
       "    </tr>\n",
       "  </thead>\n",
       "  <tbody>\n",
       "    <tr>\n",
       "      <th>0</th>\n",
       "      <td>27.900</td>\n",
       "      <td>0</td>\n",
       "      <td>0</td>\n",
       "      <td>0</td>\n",
       "      <td>1</td>\n",
       "      <td>1</td>\n",
       "      <td>0</td>\n",
       "    </tr>\n",
       "    <tr>\n",
       "      <th>1</th>\n",
       "      <td>33.770</td>\n",
       "      <td>1</td>\n",
       "      <td>0</td>\n",
       "      <td>1</td>\n",
       "      <td>0</td>\n",
       "      <td>0</td>\n",
       "      <td>1</td>\n",
       "    </tr>\n",
       "    <tr>\n",
       "      <th>2</th>\n",
       "      <td>33.000</td>\n",
       "      <td>3</td>\n",
       "      <td>0</td>\n",
       "      <td>1</td>\n",
       "      <td>0</td>\n",
       "      <td>0</td>\n",
       "      <td>1</td>\n",
       "    </tr>\n",
       "    <tr>\n",
       "      <th>3</th>\n",
       "      <td>22.705</td>\n",
       "      <td>0</td>\n",
       "      <td>1</td>\n",
       "      <td>0</td>\n",
       "      <td>0</td>\n",
       "      <td>0</td>\n",
       "      <td>1</td>\n",
       "    </tr>\n",
       "    <tr>\n",
       "      <th>4</th>\n",
       "      <td>28.880</td>\n",
       "      <td>0</td>\n",
       "      <td>1</td>\n",
       "      <td>0</td>\n",
       "      <td>0</td>\n",
       "      <td>0</td>\n",
       "      <td>1</td>\n",
       "    </tr>\n",
       "  </tbody>\n",
       "</table>\n",
       "</div>"
      ],
      "text/plain": [
       "      bmi  children  northwest  southeast  southwest  yes  male\n",
       "0  27.900         0          0          0          1    1     0\n",
       "1  33.770         1          0          1          0    0     1\n",
       "2  33.000         3          0          1          0    0     1\n",
       "3  22.705         0          1          0          0    0     1\n",
       "4  28.880         0          1          0          0    0     1"
      ]
     },
     "execution_count": 4,
     "metadata": {},
     "output_type": "execute_result"
    }
   ],
   "source": [
    "regions = pd.get_dummies(X['region'], drop_first = True)\n",
    "X = X.drop('region', axis = 1)\n",
    "X = pd.concat([X, regions], axis = 1)\n",
    "\n",
    "smokers = pd.get_dummies(X['smoker'], drop_first = True)\n",
    "X = X.drop('smoker', axis = 1)\n",
    "X = pd.concat([X, smokers], axis = 1)\n",
    "\n",
    "s = pd.get_dummies(X['sex'], drop_first = True)\n",
    "X = X.drop('sex', axis = 1)\n",
    "X = pd.concat([X, s], axis = 1)\n",
    "\n",
    "#After dummies the X \n",
    "X.head()"
   ]
  },
  {
   "cell_type": "code",
   "execution_count": 5,
   "metadata": {},
   "outputs": [],
   "source": [
    "# Standardize the data\n",
    "from sklearn.preprocessing import StandardScaler\n",
    "X = X.values\n",
    "X_std = StandardScaler().fit_transform(X)"
   ]
  },
  {
   "cell_type": "code",
   "execution_count": 6,
   "metadata": {},
   "outputs": [],
   "source": [
    "# Calculating Eigenvectors and eigenvalues of Cov matirx\n",
    "mean_vec = np.mean(X_std, axis=0)\n",
    "cov_mat = np.cov(X_std.T)\n",
    "eig_vals, eig_vecs = np.linalg.eig(cov_mat)\n",
    "# Create a list of (eigenvalue, eigenvector) tuples\n",
    "eig_pairs = [ (np.abs(eig_vals[i]),eig_vecs[:,i]) for i in range(len(eig_vals))]\n",
    "\n",
    "# Sort the eigenvalue, eigenvector pair from high to low\n",
    "eig_pairs.sort(key = lambda x: x[0], reverse= True)\n",
    "\n",
    "# Calculation of Explained Variance from the eigenvalues\n",
    "tot = sum(eig_vals)\n",
    "var_exp = [(i/tot)*100 for i in sorted(eig_vals, reverse=True)] # Individual explained variance\n",
    "cum_var_exp = np.cumsum(var_exp) # Cumulative explained variance"
   ]
  },
  {
   "cell_type": "code",
   "execution_count": 7,
   "metadata": {},
   "outputs": [
    {
     "data": {
      "text/plain": [
       "5"
      ]
     },
     "execution_count": 7,
     "metadata": {},
     "output_type": "execute_result"
    }
   ],
   "source": [
    "[ n for n,i in enumerate(cum_var_exp) if i>90 ][0]\n",
    "# Find the eigenvector beyond which 90% of the data is explained"
   ]
  },
  {
   "cell_type": "code",
   "execution_count": 8,
   "metadata": {},
   "outputs": [],
   "source": [
    "# Call the PCA method with 5 components. \n",
    "pca = PCA(n_components= 5)\n",
    "pca.fit(X_std)\n",
    "X_5d = pca.transform(X_std)"
   ]
  },
  {
   "cell_type": "code",
   "execution_count": 9,
   "metadata": {},
   "outputs": [
    {
     "name": "stdout",
     "output_type": "stream",
     "text": [
      "(1338, 5)\n"
     ]
    }
   ],
   "source": [
    "print(X_5d.shape)"
   ]
  },
  {
   "cell_type": "code",
   "execution_count": 10,
   "metadata": {},
   "outputs": [
    {
     "name": "stderr",
     "output_type": "stream",
     "text": [
      "C:\\Users\\karth\\anaconda3\\envs\\mb\\lib\\site-packages\\sklearn\\cross_validation.py:41: DeprecationWarning:\n",
      "\n",
      "This module was deprecated in version 0.18 in favor of the model_selection module into which all the refactored classes and functions are moved. Also note that the interface of the new CV iterators are different from that of this module. This module will be removed in 0.20.\n",
      "\n",
      "C:\\Users\\karth\\anaconda3\\envs\\mb\\lib\\site-packages\\sklearn\\ensemble\\weight_boosting.py:29: DeprecationWarning:\n",
      "\n",
      "numpy.core.umath_tests is an internal NumPy module and should not be imported. It will be removed in a future NumPy release.\n",
      "\n"
     ]
    }
   ],
   "source": [
    "from sklearn import cross_validation\n",
    "from sklearn.ensemble import RandomForestRegressor\n",
    "\n",
    "n = len(X_5d)\n",
    "kf_10 = cross_validation.KFold(n, n_folds=10, shuffle=True, random_state=2)\n",
    "regr = RandomForestRegressor()\n",
    "mse = []"
   ]
  },
  {
   "cell_type": "code",
   "execution_count": 11,
   "metadata": {},
   "outputs": [
    {
     "name": "stderr",
     "output_type": "stream",
     "text": [
      "C:\\Users\\karth\\anaconda3\\envs\\mb\\lib\\site-packages\\sklearn\\metrics\\scorer.py:100: DeprecationWarning:\n",
      "\n",
      "Scoring method mean_squared_error was renamed to neg_mean_squared_error in version 0.18 and will be removed in 0.20.\n",
      "\n",
      "C:\\Users\\karth\\anaconda3\\envs\\mb\\lib\\site-packages\\sklearn\\metrics\\scorer.py:100: DeprecationWarning:\n",
      "\n",
      "Scoring method mean_squared_error was renamed to neg_mean_squared_error in version 0.18 and will be removed in 0.20.\n",
      "\n",
      "C:\\Users\\karth\\anaconda3\\envs\\mb\\lib\\site-packages\\sklearn\\metrics\\scorer.py:100: DeprecationWarning:\n",
      "\n",
      "Scoring method mean_squared_error was renamed to neg_mean_squared_error in version 0.18 and will be removed in 0.20.\n",
      "\n",
      "C:\\Users\\karth\\anaconda3\\envs\\mb\\lib\\site-packages\\sklearn\\metrics\\scorer.py:100: DeprecationWarning:\n",
      "\n",
      "Scoring method mean_squared_error was renamed to neg_mean_squared_error in version 0.18 and will be removed in 0.20.\n",
      "\n",
      "C:\\Users\\karth\\anaconda3\\envs\\mb\\lib\\site-packages\\sklearn\\metrics\\scorer.py:100: DeprecationWarning:\n",
      "\n",
      "Scoring method mean_squared_error was renamed to neg_mean_squared_error in version 0.18 and will be removed in 0.20.\n",
      "\n",
      "C:\\Users\\karth\\anaconda3\\envs\\mb\\lib\\site-packages\\sklearn\\metrics\\scorer.py:100: DeprecationWarning:\n",
      "\n",
      "Scoring method mean_squared_error was renamed to neg_mean_squared_error in version 0.18 and will be removed in 0.20.\n",
      "\n",
      "C:\\Users\\karth\\anaconda3\\envs\\mb\\lib\\site-packages\\sklearn\\metrics\\scorer.py:100: DeprecationWarning:\n",
      "\n",
      "Scoring method mean_squared_error was renamed to neg_mean_squared_error in version 0.18 and will be removed in 0.20.\n",
      "\n",
      "C:\\Users\\karth\\anaconda3\\envs\\mb\\lib\\site-packages\\sklearn\\metrics\\scorer.py:100: DeprecationWarning:\n",
      "\n",
      "Scoring method mean_squared_error was renamed to neg_mean_squared_error in version 0.18 and will be removed in 0.20.\n",
      "\n",
      "C:\\Users\\karth\\anaconda3\\envs\\mb\\lib\\site-packages\\sklearn\\metrics\\scorer.py:100: DeprecationWarning:\n",
      "\n",
      "Scoring method mean_squared_error was renamed to neg_mean_squared_error in version 0.18 and will be removed in 0.20.\n",
      "\n",
      "C:\\Users\\karth\\anaconda3\\envs\\mb\\lib\\site-packages\\sklearn\\metrics\\scorer.py:100: DeprecationWarning:\n",
      "\n",
      "Scoring method mean_squared_error was renamed to neg_mean_squared_error in version 0.18 and will be removed in 0.20.\n",
      "\n"
     ]
    }
   ],
   "source": [
    "score = -1*cross_validation.cross_val_score(regr, np.ones((n,1)), target.ravel(), cv=kf_10, scoring='mean_squared_error').mean()    \n",
    "mse.append(score) "
   ]
  },
  {
   "cell_type": "code",
   "execution_count": 12,
   "metadata": {},
   "outputs": [
    {
     "name": "stderr",
     "output_type": "stream",
     "text": [
      "C:\\Users\\karth\\anaconda3\\envs\\mb\\lib\\site-packages\\sklearn\\metrics\\scorer.py:100: DeprecationWarning:\n",
      "\n",
      "Scoring method mean_squared_error was renamed to neg_mean_squared_error in version 0.18 and will be removed in 0.20.\n",
      "\n",
      "C:\\Users\\karth\\anaconda3\\envs\\mb\\lib\\site-packages\\sklearn\\metrics\\scorer.py:100: DeprecationWarning:\n",
      "\n",
      "Scoring method mean_squared_error was renamed to neg_mean_squared_error in version 0.18 and will be removed in 0.20.\n",
      "\n",
      "C:\\Users\\karth\\anaconda3\\envs\\mb\\lib\\site-packages\\sklearn\\metrics\\scorer.py:100: DeprecationWarning:\n",
      "\n",
      "Scoring method mean_squared_error was renamed to neg_mean_squared_error in version 0.18 and will be removed in 0.20.\n",
      "\n",
      "C:\\Users\\karth\\anaconda3\\envs\\mb\\lib\\site-packages\\sklearn\\metrics\\scorer.py:100: DeprecationWarning:\n",
      "\n",
      "Scoring method mean_squared_error was renamed to neg_mean_squared_error in version 0.18 and will be removed in 0.20.\n",
      "\n",
      "C:\\Users\\karth\\anaconda3\\envs\\mb\\lib\\site-packages\\sklearn\\metrics\\scorer.py:100: DeprecationWarning:\n",
      "\n",
      "Scoring method mean_squared_error was renamed to neg_mean_squared_error in version 0.18 and will be removed in 0.20.\n",
      "\n",
      "C:\\Users\\karth\\anaconda3\\envs\\mb\\lib\\site-packages\\sklearn\\metrics\\scorer.py:100: DeprecationWarning:\n",
      "\n",
      "Scoring method mean_squared_error was renamed to neg_mean_squared_error in version 0.18 and will be removed in 0.20.\n",
      "\n",
      "C:\\Users\\karth\\anaconda3\\envs\\mb\\lib\\site-packages\\sklearn\\metrics\\scorer.py:100: DeprecationWarning:\n",
      "\n",
      "Scoring method mean_squared_error was renamed to neg_mean_squared_error in version 0.18 and will be removed in 0.20.\n",
      "\n",
      "C:\\Users\\karth\\anaconda3\\envs\\mb\\lib\\site-packages\\sklearn\\metrics\\scorer.py:100: DeprecationWarning:\n",
      "\n",
      "Scoring method mean_squared_error was renamed to neg_mean_squared_error in version 0.18 and will be removed in 0.20.\n",
      "\n",
      "C:\\Users\\karth\\anaconda3\\envs\\mb\\lib\\site-packages\\sklearn\\metrics\\scorer.py:100: DeprecationWarning:\n",
      "\n",
      "Scoring method mean_squared_error was renamed to neg_mean_squared_error in version 0.18 and will be removed in 0.20.\n",
      "\n",
      "C:\\Users\\karth\\anaconda3\\envs\\mb\\lib\\site-packages\\sklearn\\metrics\\scorer.py:100: DeprecationWarning:\n",
      "\n",
      "Scoring method mean_squared_error was renamed to neg_mean_squared_error in version 0.18 and will be removed in 0.20.\n",
      "\n",
      "C:\\Users\\karth\\anaconda3\\envs\\mb\\lib\\site-packages\\sklearn\\metrics\\scorer.py:100: DeprecationWarning:\n",
      "\n",
      "Scoring method mean_squared_error was renamed to neg_mean_squared_error in version 0.18 and will be removed in 0.20.\n",
      "\n",
      "C:\\Users\\karth\\anaconda3\\envs\\mb\\lib\\site-packages\\sklearn\\metrics\\scorer.py:100: DeprecationWarning:\n",
      "\n",
      "Scoring method mean_squared_error was renamed to neg_mean_squared_error in version 0.18 and will be removed in 0.20.\n",
      "\n",
      "C:\\Users\\karth\\anaconda3\\envs\\mb\\lib\\site-packages\\sklearn\\metrics\\scorer.py:100: DeprecationWarning:\n",
      "\n",
      "Scoring method mean_squared_error was renamed to neg_mean_squared_error in version 0.18 and will be removed in 0.20.\n",
      "\n",
      "C:\\Users\\karth\\anaconda3\\envs\\mb\\lib\\site-packages\\sklearn\\metrics\\scorer.py:100: DeprecationWarning:\n",
      "\n",
      "Scoring method mean_squared_error was renamed to neg_mean_squared_error in version 0.18 and will be removed in 0.20.\n",
      "\n",
      "C:\\Users\\karth\\anaconda3\\envs\\mb\\lib\\site-packages\\sklearn\\metrics\\scorer.py:100: DeprecationWarning:\n",
      "\n",
      "Scoring method mean_squared_error was renamed to neg_mean_squared_error in version 0.18 and will be removed in 0.20.\n",
      "\n",
      "C:\\Users\\karth\\anaconda3\\envs\\mb\\lib\\site-packages\\sklearn\\metrics\\scorer.py:100: DeprecationWarning:\n",
      "\n",
      "Scoring method mean_squared_error was renamed to neg_mean_squared_error in version 0.18 and will be removed in 0.20.\n",
      "\n",
      "C:\\Users\\karth\\anaconda3\\envs\\mb\\lib\\site-packages\\sklearn\\metrics\\scorer.py:100: DeprecationWarning:\n",
      "\n",
      "Scoring method mean_squared_error was renamed to neg_mean_squared_error in version 0.18 and will be removed in 0.20.\n",
      "\n",
      "C:\\Users\\karth\\anaconda3\\envs\\mb\\lib\\site-packages\\sklearn\\metrics\\scorer.py:100: DeprecationWarning:\n",
      "\n",
      "Scoring method mean_squared_error was renamed to neg_mean_squared_error in version 0.18 and will be removed in 0.20.\n",
      "\n",
      "C:\\Users\\karth\\anaconda3\\envs\\mb\\lib\\site-packages\\sklearn\\metrics\\scorer.py:100: DeprecationWarning:\n",
      "\n",
      "Scoring method mean_squared_error was renamed to neg_mean_squared_error in version 0.18 and will be removed in 0.20.\n",
      "\n",
      "C:\\Users\\karth\\anaconda3\\envs\\mb\\lib\\site-packages\\sklearn\\metrics\\scorer.py:100: DeprecationWarning:\n",
      "\n",
      "Scoring method mean_squared_error was renamed to neg_mean_squared_error in version 0.18 and will be removed in 0.20.\n",
      "\n",
      "C:\\Users\\karth\\anaconda3\\envs\\mb\\lib\\site-packages\\sklearn\\metrics\\scorer.py:100: DeprecationWarning:\n",
      "\n",
      "Scoring method mean_squared_error was renamed to neg_mean_squared_error in version 0.18 and will be removed in 0.20.\n",
      "\n",
      "C:\\Users\\karth\\anaconda3\\envs\\mb\\lib\\site-packages\\sklearn\\metrics\\scorer.py:100: DeprecationWarning:\n",
      "\n",
      "Scoring method mean_squared_error was renamed to neg_mean_squared_error in version 0.18 and will be removed in 0.20.\n",
      "\n",
      "C:\\Users\\karth\\anaconda3\\envs\\mb\\lib\\site-packages\\sklearn\\metrics\\scorer.py:100: DeprecationWarning:\n",
      "\n",
      "Scoring method mean_squared_error was renamed to neg_mean_squared_error in version 0.18 and will be removed in 0.20.\n",
      "\n",
      "C:\\Users\\karth\\anaconda3\\envs\\mb\\lib\\site-packages\\sklearn\\metrics\\scorer.py:100: DeprecationWarning:\n",
      "\n",
      "Scoring method mean_squared_error was renamed to neg_mean_squared_error in version 0.18 and will be removed in 0.20.\n",
      "\n",
      "C:\\Users\\karth\\anaconda3\\envs\\mb\\lib\\site-packages\\sklearn\\metrics\\scorer.py:100: DeprecationWarning:\n",
      "\n",
      "Scoring method mean_squared_error was renamed to neg_mean_squared_error in version 0.18 and will be removed in 0.20.\n",
      "\n",
      "C:\\Users\\karth\\anaconda3\\envs\\mb\\lib\\site-packages\\sklearn\\metrics\\scorer.py:100: DeprecationWarning:\n",
      "\n",
      "Scoring method mean_squared_error was renamed to neg_mean_squared_error in version 0.18 and will be removed in 0.20.\n",
      "\n",
      "C:\\Users\\karth\\anaconda3\\envs\\mb\\lib\\site-packages\\sklearn\\metrics\\scorer.py:100: DeprecationWarning:\n",
      "\n",
      "Scoring method mean_squared_error was renamed to neg_mean_squared_error in version 0.18 and will be removed in 0.20.\n",
      "\n",
      "C:\\Users\\karth\\anaconda3\\envs\\mb\\lib\\site-packages\\sklearn\\metrics\\scorer.py:100: DeprecationWarning:\n",
      "\n",
      "Scoring method mean_squared_error was renamed to neg_mean_squared_error in version 0.18 and will be removed in 0.20.\n",
      "\n",
      "C:\\Users\\karth\\anaconda3\\envs\\mb\\lib\\site-packages\\sklearn\\metrics\\scorer.py:100: DeprecationWarning:\n",
      "\n",
      "Scoring method mean_squared_error was renamed to neg_mean_squared_error in version 0.18 and will be removed in 0.20.\n",
      "\n",
      "C:\\Users\\karth\\anaconda3\\envs\\mb\\lib\\site-packages\\sklearn\\metrics\\scorer.py:100: DeprecationWarning:\n",
      "\n",
      "Scoring method mean_squared_error was renamed to neg_mean_squared_error in version 0.18 and will be removed in 0.20.\n",
      "\n",
      "C:\\Users\\karth\\anaconda3\\envs\\mb\\lib\\site-packages\\sklearn\\metrics\\scorer.py:100: DeprecationWarning:\n",
      "\n",
      "Scoring method mean_squared_error was renamed to neg_mean_squared_error in version 0.18 and will be removed in 0.20.\n",
      "\n",
      "C:\\Users\\karth\\anaconda3\\envs\\mb\\lib\\site-packages\\sklearn\\metrics\\scorer.py:100: DeprecationWarning:\n",
      "\n",
      "Scoring method mean_squared_error was renamed to neg_mean_squared_error in version 0.18 and will be removed in 0.20.\n",
      "\n",
      "C:\\Users\\karth\\anaconda3\\envs\\mb\\lib\\site-packages\\sklearn\\metrics\\scorer.py:100: DeprecationWarning:\n",
      "\n",
      "Scoring method mean_squared_error was renamed to neg_mean_squared_error in version 0.18 and will be removed in 0.20.\n",
      "\n",
      "C:\\Users\\karth\\anaconda3\\envs\\mb\\lib\\site-packages\\sklearn\\metrics\\scorer.py:100: DeprecationWarning:\n",
      "\n",
      "Scoring method mean_squared_error was renamed to neg_mean_squared_error in version 0.18 and will be removed in 0.20.\n",
      "\n",
      "C:\\Users\\karth\\anaconda3\\envs\\mb\\lib\\site-packages\\sklearn\\metrics\\scorer.py:100: DeprecationWarning:\n",
      "\n",
      "Scoring method mean_squared_error was renamed to neg_mean_squared_error in version 0.18 and will be removed in 0.20.\n",
      "\n",
      "C:\\Users\\karth\\anaconda3\\envs\\mb\\lib\\site-packages\\sklearn\\metrics\\scorer.py:100: DeprecationWarning:\n",
      "\n",
      "Scoring method mean_squared_error was renamed to neg_mean_squared_error in version 0.18 and will be removed in 0.20.\n",
      "\n",
      "C:\\Users\\karth\\anaconda3\\envs\\mb\\lib\\site-packages\\sklearn\\metrics\\scorer.py:100: DeprecationWarning:\n",
      "\n",
      "Scoring method mean_squared_error was renamed to neg_mean_squared_error in version 0.18 and will be removed in 0.20.\n",
      "\n",
      "C:\\Users\\karth\\anaconda3\\envs\\mb\\lib\\site-packages\\sklearn\\metrics\\scorer.py:100: DeprecationWarning:\n",
      "\n",
      "Scoring method mean_squared_error was renamed to neg_mean_squared_error in version 0.18 and will be removed in 0.20.\n",
      "\n"
     ]
    },
    {
     "name": "stderr",
     "output_type": "stream",
     "text": [
      "C:\\Users\\karth\\anaconda3\\envs\\mb\\lib\\site-packages\\sklearn\\metrics\\scorer.py:100: DeprecationWarning:\n",
      "\n",
      "Scoring method mean_squared_error was renamed to neg_mean_squared_error in version 0.18 and will be removed in 0.20.\n",
      "\n",
      "C:\\Users\\karth\\anaconda3\\envs\\mb\\lib\\site-packages\\sklearn\\metrics\\scorer.py:100: DeprecationWarning:\n",
      "\n",
      "Scoring method mean_squared_error was renamed to neg_mean_squared_error in version 0.18 and will be removed in 0.20.\n",
      "\n",
      "C:\\Users\\karth\\anaconda3\\envs\\mb\\lib\\site-packages\\sklearn\\metrics\\scorer.py:100: DeprecationWarning:\n",
      "\n",
      "Scoring method mean_squared_error was renamed to neg_mean_squared_error in version 0.18 and will be removed in 0.20.\n",
      "\n",
      "C:\\Users\\karth\\anaconda3\\envs\\mb\\lib\\site-packages\\sklearn\\metrics\\scorer.py:100: DeprecationWarning:\n",
      "\n",
      "Scoring method mean_squared_error was renamed to neg_mean_squared_error in version 0.18 and will be removed in 0.20.\n",
      "\n",
      "C:\\Users\\karth\\anaconda3\\envs\\mb\\lib\\site-packages\\sklearn\\metrics\\scorer.py:100: DeprecationWarning:\n",
      "\n",
      "Scoring method mean_squared_error was renamed to neg_mean_squared_error in version 0.18 and will be removed in 0.20.\n",
      "\n",
      "C:\\Users\\karth\\anaconda3\\envs\\mb\\lib\\site-packages\\sklearn\\metrics\\scorer.py:100: DeprecationWarning:\n",
      "\n",
      "Scoring method mean_squared_error was renamed to neg_mean_squared_error in version 0.18 and will be removed in 0.20.\n",
      "\n",
      "C:\\Users\\karth\\anaconda3\\envs\\mb\\lib\\site-packages\\sklearn\\metrics\\scorer.py:100: DeprecationWarning:\n",
      "\n",
      "Scoring method mean_squared_error was renamed to neg_mean_squared_error in version 0.18 and will be removed in 0.20.\n",
      "\n",
      "C:\\Users\\karth\\anaconda3\\envs\\mb\\lib\\site-packages\\sklearn\\metrics\\scorer.py:100: DeprecationWarning:\n",
      "\n",
      "Scoring method mean_squared_error was renamed to neg_mean_squared_error in version 0.18 and will be removed in 0.20.\n",
      "\n",
      "C:\\Users\\karth\\anaconda3\\envs\\mb\\lib\\site-packages\\sklearn\\metrics\\scorer.py:100: DeprecationWarning:\n",
      "\n",
      "Scoring method mean_squared_error was renamed to neg_mean_squared_error in version 0.18 and will be removed in 0.20.\n",
      "\n",
      "C:\\Users\\karth\\anaconda3\\envs\\mb\\lib\\site-packages\\sklearn\\metrics\\scorer.py:100: DeprecationWarning:\n",
      "\n",
      "Scoring method mean_squared_error was renamed to neg_mean_squared_error in version 0.18 and will be removed in 0.20.\n",
      "\n",
      "C:\\Users\\karth\\anaconda3\\envs\\mb\\lib\\site-packages\\sklearn\\metrics\\scorer.py:100: DeprecationWarning:\n",
      "\n",
      "Scoring method mean_squared_error was renamed to neg_mean_squared_error in version 0.18 and will be removed in 0.20.\n",
      "\n",
      "C:\\Users\\karth\\anaconda3\\envs\\mb\\lib\\site-packages\\sklearn\\metrics\\scorer.py:100: DeprecationWarning:\n",
      "\n",
      "Scoring method mean_squared_error was renamed to neg_mean_squared_error in version 0.18 and will be removed in 0.20.\n",
      "\n"
     ]
    },
    {
     "data": {
      "image/png": "[encoded data removed]",
      "text/plain": [
       "<Figure size 864x360 with 2 Axes>"
      ]
     },
     "metadata": {
      "needs_background": "light"
     },
     "output_type": "display_data"
    }
   ],
   "source": [
    "for i in np.arange(1,6):\n",
    "    score = -1*cross_validation.cross_val_score(regr, X_5d[:,:i], target.ravel(), cv=kf_10, scoring='mean_squared_error').mean()\n",
    "    mse.append(score)\n",
    "\n",
    "fig, (ax1, ax2) = plt.subplots(1,2, figsize=(12,5))\n",
    "ax1.plot(mse, '-v')\n",
    "ax2.plot([1,2,3,4,5], mse[1:6], '-v')\n",
    "ax2.set_title('Intercept excluded from plot')\n",
    "\n",
    "for ax in fig.axes:\n",
    "    ax.set_xlabel('Number of principal components in regression')\n",
    "    ax.set_ylabel('MSE')\n",
    "    ax.set_xlim((-0.2,5.2))"
   ]
  },
  {
   "cell_type": "code",
   "execution_count": 39,
   "metadata": {},
   "outputs": [],
   "source": [
    "X_new = pd.DataFrame(X_5d)"
   ]
  },
  {
   "cell_type": "code",
   "execution_count": 14,
   "metadata": {},
   "outputs": [
    {
     "data": {
      "text/html": [
       "<div>\n",
       "<style scoped>\n",
       "    .dataframe tbody tr th:only-of-type {\n",
       "        vertical-align: middle;\n",
       "    }\n",
       "\n",
       "    .dataframe tbody tr th {\n",
       "        vertical-align: top;\n",
       "    }\n",
       "\n",
       "    .dataframe thead th {\n",
       "        text-align: right;\n",
       "    }\n",
       "</style>\n",
       "<table border=\"1\" class=\"dataframe\">\n",
       "  <thead>\n",
       "    <tr style=\"text-align: right;\">\n",
       "      <th></th>\n",
       "      <th>0</th>\n",
       "      <th>1</th>\n",
       "      <th>2</th>\n",
       "      <th>3</th>\n",
       "      <th>4</th>\n",
       "    </tr>\n",
       "  </thead>\n",
       "  <tbody>\n",
       "    <tr>\n",
       "      <th>0</th>\n",
       "      <td>-0.451386</td>\n",
       "      <td>1.670650</td>\n",
       "      <td>0.402051</td>\n",
       "      <td>-1.606338</td>\n",
       "      <td>1.747150</td>\n",
       "    </tr>\n",
       "    <tr>\n",
       "      <th>1</th>\n",
       "      <td>1.767925</td>\n",
       "      <td>-0.408360</td>\n",
       "      <td>0.056887</td>\n",
       "      <td>0.140578</td>\n",
       "      <td>-0.900130</td>\n",
       "    </tr>\n",
       "    <tr>\n",
       "      <th>2</th>\n",
       "      <td>1.636602</td>\n",
       "      <td>-0.374951</td>\n",
       "      <td>0.595615</td>\n",
       "      <td>1.592234</td>\n",
       "      <td>-0.409280</td>\n",
       "    </tr>\n",
       "    <tr>\n",
       "      <th>3</th>\n",
       "      <td>-1.729482</td>\n",
       "      <td>-1.394247</td>\n",
       "      <td>0.283252</td>\n",
       "      <td>-0.917163</td>\n",
       "      <td>-1.087760</td>\n",
       "    </tr>\n",
       "    <tr>\n",
       "      <th>4</th>\n",
       "      <td>-1.243194</td>\n",
       "      <td>-1.341320</td>\n",
       "      <td>0.240240</td>\n",
       "      <td>-0.660219</td>\n",
       "      <td>-1.403845</td>\n",
       "    </tr>\n",
       "  </tbody>\n",
       "</table>\n",
       "</div>"
      ],
      "text/plain": [
       "          0         1         2         3         4\n",
       "0 -0.451386  1.670650  0.402051 -1.606338  1.747150\n",
       "1  1.767925 -0.408360  0.056887  0.140578 -0.900130\n",
       "2  1.636602 -0.374951  0.595615  1.592234 -0.409280\n",
       "3 -1.729482 -1.394247  0.283252 -0.917163 -1.087760\n",
       "4 -1.243194 -1.341320  0.240240 -0.660219 -1.403845"
      ]
     },
     "execution_count": 14,
     "metadata": {},
     "output_type": "execute_result"
    }
   ],
   "source": [
    "X_new.head()"
   ]
  },
  {
   "cell_type": "code",
   "execution_count": 15,
   "metadata": {},
   "outputs": [
    {
     "data": {
      "text/plain": [
       "0    0.264777\n",
       "1    0.027059\n",
       "2    0.069773\n",
       "3    0.344744\n",
       "4    0.060637\n",
       "Name: charges, dtype: float64"
      ]
     },
     "execution_count": 15,
     "metadata": {},
     "output_type": "execute_result"
    }
   ],
   "source": [
    "# copy the data\n",
    "target = target.copy()\n",
    "  \n",
    "# apply normalization techniques\n",
    "for i in target:\n",
    "    target = target / target.abs().max()\n",
    "    \n",
    "target.head()"
   ]
  },
  {
   "cell_type": "code",
   "execution_count": 16,
   "metadata": {},
   "outputs": [
    {
     "data": {
      "text/html": [
       "<div>\n",
       "<style scoped>\n",
       "    .dataframe tbody tr th:only-of-type {\n",
       "        vertical-align: middle;\n",
       "    }\n",
       "\n",
       "    .dataframe tbody tr th {\n",
       "        vertical-align: top;\n",
       "    }\n",
       "\n",
       "    .dataframe thead th {\n",
       "        text-align: right;\n",
       "    }\n",
       "</style>\n",
       "<table border=\"1\" class=\"dataframe\">\n",
       "  <thead>\n",
       "    <tr style=\"text-align: right;\">\n",
       "      <th></th>\n",
       "      <th>0</th>\n",
       "      <th>1</th>\n",
       "      <th>2</th>\n",
       "      <th>3</th>\n",
       "      <th>4</th>\n",
       "    </tr>\n",
       "  </thead>\n",
       "  <tbody>\n",
       "    <tr>\n",
       "      <th>0</th>\n",
       "      <td>-0.124652</td>\n",
       "      <td>0.815774</td>\n",
       "      <td>0.139585</td>\n",
       "      <td>-0.420006</td>\n",
       "      <td>0.518882</td>\n",
       "    </tr>\n",
       "    <tr>\n",
       "      <th>1</th>\n",
       "      <td>0.488219</td>\n",
       "      <td>-0.199401</td>\n",
       "      <td>0.019750</td>\n",
       "      <td>0.036757</td>\n",
       "      <td>-0.267328</td>\n",
       "    </tr>\n",
       "    <tr>\n",
       "      <th>2</th>\n",
       "      <td>0.451954</td>\n",
       "      <td>-0.183087</td>\n",
       "      <td>0.206787</td>\n",
       "      <td>0.416319</td>\n",
       "      <td>-0.121551</td>\n",
       "    </tr>\n",
       "    <tr>\n",
       "      <th>3</th>\n",
       "      <td>-0.477603</td>\n",
       "      <td>-0.680807</td>\n",
       "      <td>0.098340</td>\n",
       "      <td>-0.239809</td>\n",
       "      <td>-0.323052</td>\n",
       "    </tr>\n",
       "    <tr>\n",
       "      <th>4</th>\n",
       "      <td>-0.343313</td>\n",
       "      <td>-0.654963</td>\n",
       "      <td>0.083407</td>\n",
       "      <td>-0.172626</td>\n",
       "      <td>-0.416925</td>\n",
       "    </tr>\n",
       "  </tbody>\n",
       "</table>\n",
       "</div>"
      ],
      "text/plain": [
       "          0         1         2         3         4\n",
       "0 -0.124652  0.815774  0.139585 -0.420006  0.518882\n",
       "1  0.488219 -0.199401  0.019750  0.036757 -0.267328\n",
       "2  0.451954 -0.183087  0.206787  0.416319 -0.121551\n",
       "3 -0.477603 -0.680807  0.098340 -0.239809 -0.323052\n",
       "4 -0.343313 -0.654963  0.083407 -0.172626 -0.416925"
      ]
     },
     "execution_count": 16,
     "metadata": {},
     "output_type": "execute_result"
    }
   ],
   "source": [
    "X_new = X_new.copy()\n",
    "  \n",
    "# apply normalization techniques\n",
    "for column in X_new.columns:\n",
    "    X_new[column] = X_new[column] / X_new[column].abs().max()\n",
    "    \n",
    "X_new.head()"
   ]
  },
  {
   "cell_type": "code",
   "execution_count": 17,
   "metadata": {},
   "outputs": [
    {
     "data": {
      "text/html": [
       "<div>\n",
       "<style scoped>\n",
       "    .dataframe tbody tr th:only-of-type {\n",
       "        vertical-align: middle;\n",
       "    }\n",
       "\n",
       "    .dataframe tbody tr th {\n",
       "        vertical-align: top;\n",
       "    }\n",
       "\n",
       "    .dataframe thead th {\n",
       "        text-align: right;\n",
       "    }\n",
       "</style>\n",
       "<table border=\"1\" class=\"dataframe\">\n",
       "  <thead>\n",
       "    <tr style=\"text-align: right;\">\n",
       "      <th></th>\n",
       "      <th>0</th>\n",
       "      <th>1</th>\n",
       "      <th>2</th>\n",
       "      <th>3</th>\n",
       "      <th>4</th>\n",
       "      <th>charges</th>\n",
       "    </tr>\n",
       "  </thead>\n",
       "  <tbody>\n",
       "    <tr>\n",
       "      <th>0</th>\n",
       "      <td>-0.124652</td>\n",
       "      <td>0.815774</td>\n",
       "      <td>0.139585</td>\n",
       "      <td>-0.420006</td>\n",
       "      <td>0.518882</td>\n",
       "      <td>0.264777</td>\n",
       "    </tr>\n",
       "    <tr>\n",
       "      <th>1</th>\n",
       "      <td>0.488219</td>\n",
       "      <td>-0.199401</td>\n",
       "      <td>0.019750</td>\n",
       "      <td>0.036757</td>\n",
       "      <td>-0.267328</td>\n",
       "      <td>0.027059</td>\n",
       "    </tr>\n",
       "    <tr>\n",
       "      <th>2</th>\n",
       "      <td>0.451954</td>\n",
       "      <td>-0.183087</td>\n",
       "      <td>0.206787</td>\n",
       "      <td>0.416319</td>\n",
       "      <td>-0.121551</td>\n",
       "      <td>0.069773</td>\n",
       "    </tr>\n",
       "    <tr>\n",
       "      <th>3</th>\n",
       "      <td>-0.477603</td>\n",
       "      <td>-0.680807</td>\n",
       "      <td>0.098340</td>\n",
       "      <td>-0.239809</td>\n",
       "      <td>-0.323052</td>\n",
       "      <td>0.344744</td>\n",
       "    </tr>\n",
       "    <tr>\n",
       "      <th>4</th>\n",
       "      <td>-0.343313</td>\n",
       "      <td>-0.654963</td>\n",
       "      <td>0.083407</td>\n",
       "      <td>-0.172626</td>\n",
       "      <td>-0.416925</td>\n",
       "      <td>0.060637</td>\n",
       "    </tr>\n",
       "  </tbody>\n",
       "</table>\n",
       "</div>"
      ],
      "text/plain": [
       "          0         1         2         3         4   charges\n",
       "0 -0.124652  0.815774  0.139585 -0.420006  0.518882  0.264777\n",
       "1  0.488219 -0.199401  0.019750  0.036757 -0.267328  0.027059\n",
       "2  0.451954 -0.183087  0.206787  0.416319 -0.121551  0.069773\n",
       "3 -0.477603 -0.680807  0.098340 -0.239809 -0.323052  0.344744\n",
       "4 -0.343313 -0.654963  0.083407 -0.172626 -0.416925  0.060637"
      ]
     },
     "execution_count": 17,
     "metadata": {},
     "output_type": "execute_result"
    }
   ],
   "source": [
    "final_df = pd.concat([X_new, target], axis = 1)\n",
    "final_df.head()"
   ]
  },
  {
   "cell_type": "code",
   "execution_count": 18,
   "metadata": {},
   "outputs": [],
   "source": [
    "def clean_dataset(df):\n",
    "    assert isinstance(df, pd.DataFrame), \"df needs to be a pd.DataFrame\"\n",
    "    df.dropna(inplace=True)\n",
    "    indices_to_keep = ~df.isin([np.nan, np.inf, -np.inf]).any(1)\n",
    "    return df[indices_to_keep].astype(np.float64)"
   ]
  },
  {
   "cell_type": "code",
   "execution_count": 19,
   "metadata": {},
   "outputs": [
    {
     "data": {
      "text/html": [
       "<div>\n",
       "<style scoped>\n",
       "    .dataframe tbody tr th:only-of-type {\n",
       "        vertical-align: middle;\n",
       "    }\n",
       "\n",
       "    .dataframe tbody tr th {\n",
       "        vertical-align: top;\n",
       "    }\n",
       "\n",
       "    .dataframe thead th {\n",
       "        text-align: right;\n",
       "    }\n",
       "</style>\n",
       "<table border=\"1\" class=\"dataframe\">\n",
       "  <thead>\n",
       "    <tr style=\"text-align: right;\">\n",
       "      <th></th>\n",
       "      <th>0</th>\n",
       "      <th>1</th>\n",
       "      <th>2</th>\n",
       "      <th>3</th>\n",
       "      <th>4</th>\n",
       "      <th>charges</th>\n",
       "    </tr>\n",
       "  </thead>\n",
       "  <tbody>\n",
       "    <tr>\n",
       "      <th>0</th>\n",
       "      <td>-0.124652</td>\n",
       "      <td>0.815774</td>\n",
       "      <td>0.139585</td>\n",
       "      <td>-0.420006</td>\n",
       "      <td>0.518882</td>\n",
       "      <td>0.264777</td>\n",
       "    </tr>\n",
       "    <tr>\n",
       "      <th>1</th>\n",
       "      <td>0.488219</td>\n",
       "      <td>-0.199401</td>\n",
       "      <td>0.019750</td>\n",
       "      <td>0.036757</td>\n",
       "      <td>-0.267328</td>\n",
       "      <td>0.027059</td>\n",
       "    </tr>\n",
       "    <tr>\n",
       "      <th>2</th>\n",
       "      <td>0.451954</td>\n",
       "      <td>-0.183087</td>\n",
       "      <td>0.206787</td>\n",
       "      <td>0.416319</td>\n",
       "      <td>-0.121551</td>\n",
       "      <td>0.069773</td>\n",
       "    </tr>\n",
       "    <tr>\n",
       "      <th>3</th>\n",
       "      <td>-0.477603</td>\n",
       "      <td>-0.680807</td>\n",
       "      <td>0.098340</td>\n",
       "      <td>-0.239809</td>\n",
       "      <td>-0.323052</td>\n",
       "      <td>0.344744</td>\n",
       "    </tr>\n",
       "    <tr>\n",
       "      <th>4</th>\n",
       "      <td>-0.343313</td>\n",
       "      <td>-0.654963</td>\n",
       "      <td>0.083407</td>\n",
       "      <td>-0.172626</td>\n",
       "      <td>-0.416925</td>\n",
       "      <td>0.060637</td>\n",
       "    </tr>\n",
       "  </tbody>\n",
       "</table>\n",
       "</div>"
      ],
      "text/plain": [
       "          0         1         2         3         4   charges\n",
       "0 -0.124652  0.815774  0.139585 -0.420006  0.518882  0.264777\n",
       "1  0.488219 -0.199401  0.019750  0.036757 -0.267328  0.027059\n",
       "2  0.451954 -0.183087  0.206787  0.416319 -0.121551  0.069773\n",
       "3 -0.477603 -0.680807  0.098340 -0.239809 -0.323052  0.344744\n",
       "4 -0.343313 -0.654963  0.083407 -0.172626 -0.416925  0.060637"
      ]
     },
     "execution_count": 19,
     "metadata": {},
     "output_type": "execute_result"
    }
   ],
   "source": [
    "clean_dataset(final_df)\n",
    "final_df.head()"
   ]
  },
  {
   "cell_type": "code",
   "execution_count": 20,
   "metadata": {},
   "outputs": [],
   "source": [
    "X = X_new\n",
    "Y = final_df['charges']"
   ]
  },
  {
   "cell_type": "code",
   "execution_count": 21,
   "metadata": {},
   "outputs": [
    {
     "data": {
      "text/html": [
       "<div>\n",
       "<style scoped>\n",
       "    .dataframe tbody tr th:only-of-type {\n",
       "        vertical-align: middle;\n",
       "    }\n",
       "\n",
       "    .dataframe tbody tr th {\n",
       "        vertical-align: top;\n",
       "    }\n",
       "\n",
       "    .dataframe thead th {\n",
       "        text-align: right;\n",
       "    }\n",
       "</style>\n",
       "<table border=\"1\" class=\"dataframe\">\n",
       "  <thead>\n",
       "    <tr style=\"text-align: right;\">\n",
       "      <th></th>\n",
       "      <th>0</th>\n",
       "      <th>1</th>\n",
       "      <th>2</th>\n",
       "      <th>3</th>\n",
       "      <th>4</th>\n",
       "    </tr>\n",
       "  </thead>\n",
       "  <tbody>\n",
       "    <tr>\n",
       "      <th>0</th>\n",
       "      <td>-0.124652</td>\n",
       "      <td>0.815774</td>\n",
       "      <td>0.139585</td>\n",
       "      <td>-0.420006</td>\n",
       "      <td>0.518882</td>\n",
       "    </tr>\n",
       "    <tr>\n",
       "      <th>1</th>\n",
       "      <td>0.488219</td>\n",
       "      <td>-0.199401</td>\n",
       "      <td>0.019750</td>\n",
       "      <td>0.036757</td>\n",
       "      <td>-0.267328</td>\n",
       "    </tr>\n",
       "    <tr>\n",
       "      <th>2</th>\n",
       "      <td>0.451954</td>\n",
       "      <td>-0.183087</td>\n",
       "      <td>0.206787</td>\n",
       "      <td>0.416319</td>\n",
       "      <td>-0.121551</td>\n",
       "    </tr>\n",
       "    <tr>\n",
       "      <th>3</th>\n",
       "      <td>-0.477603</td>\n",
       "      <td>-0.680807</td>\n",
       "      <td>0.098340</td>\n",
       "      <td>-0.239809</td>\n",
       "      <td>-0.323052</td>\n",
       "    </tr>\n",
       "    <tr>\n",
       "      <th>4</th>\n",
       "      <td>-0.343313</td>\n",
       "      <td>-0.654963</td>\n",
       "      <td>0.083407</td>\n",
       "      <td>-0.172626</td>\n",
       "      <td>-0.416925</td>\n",
       "    </tr>\n",
       "  </tbody>\n",
       "</table>\n",
       "</div>"
      ],
      "text/plain": [
       "          0         1         2         3         4\n",
       "0 -0.124652  0.815774  0.139585 -0.420006  0.518882\n",
       "1  0.488219 -0.199401  0.019750  0.036757 -0.267328\n",
       "2  0.451954 -0.183087  0.206787  0.416319 -0.121551\n",
       "3 -0.477603 -0.680807  0.098340 -0.239809 -0.323052\n",
       "4 -0.343313 -0.654963  0.083407 -0.172626 -0.416925"
      ]
     },
     "execution_count": 21,
     "metadata": {},
     "output_type": "execute_result"
    }
   ],
   "source": [
    "X.head()"
   ]
  },
  {
   "cell_type": "code",
   "execution_count": 22,
   "metadata": {},
   "outputs": [
    {
     "data": {
      "text/plain": [
       "(1338, 5)"
      ]
     },
     "execution_count": 22,
     "metadata": {},
     "output_type": "execute_result"
    }
   ],
   "source": [
    "X.shape"
   ]
  },
  {
   "cell_type": "code",
   "execution_count": 23,
   "metadata": {},
   "outputs": [
    {
     "data": {
      "text/plain": [
       "(1338,)"
      ]
     },
     "execution_count": 23,
     "metadata": {},
     "output_type": "execute_result"
    }
   ],
   "source": [
    "Y.shape"
   ]
  },
  {
   "cell_type": "code",
   "execution_count": 36,
   "metadata": {},
   "outputs": [],
   "source": [
    "from sklearn.model_selection import train_test_split\n",
    "X_train, X_test, Y_train, Y_test = train_test_split(X, Y, test_size = 0.25, random_state =0)"
   ]
  },
  {
   "cell_type": "code",
   "execution_count": 37,
   "metadata": {},
   "outputs": [
    {
     "data": {
      "text/plain": [
       "RandomForestRegressor(bootstrap=True, criterion='mse', max_depth=None,\n",
       "           max_features='auto', max_leaf_nodes=None,\n",
       "           min_impurity_decrease=0.0, min_impurity_split=None,\n",
       "           min_samples_leaf=1, min_samples_split=2,\n",
       "           min_weight_fraction_leaf=0.0, n_estimators=10, n_jobs=1,\n",
       "           oob_score=False, random_state=None, verbose=0, warm_start=False)"
      ]
     },
     "execution_count": 37,
     "metadata": {},
     "output_type": "execute_result"
    }
   ],
   "source": [
    "regr.fit(X_train, Y_train)"
   ]
  },
  {
   "cell_type": "code",
   "execution_count": 38,
   "metadata": {
    "scrolled": true
   },
   "outputs": [
    {
     "name": "stdout",
     "output_type": "stream",
     "text": [
      "The model performance for training set:\n",
      "\n",
      "\n",
      "RMSE is 0.05447671334234529\n",
      "R2 score is 0.9155403386781639\n",
      "\n",
      "\n",
      "The model performance for testing set:\n",
      "\n",
      "\n",
      "RMSE is 0.11795957005977646\n",
      "R2 score is 0.640577648533992\n"
     ]
    }
   ],
   "source": [
    "from sklearn.metrics import r2_score\n",
    "from sklearn.metrics import mean_squared_error\n",
    "# performance for training set:\n",
    "y_train_predict = regr.predict(X_train)\n",
    "rmse = (np.sqrt(mean_squared_error(Y_train, y_train_predict)))\n",
    "r2 = r2_score(Y_train, y_train_predict)\n",
    "\n",
    "print(\"The model performance for training set:\")\n",
    "print(\"\\n\")\n",
    "print('RMSE is {}'.format(rmse))\n",
    "print('R2 score is {}'.format(r2))\n",
    "print(\"\\n\")\n",
    "\n",
    "# model evaluation for testing set:\n",
    "y_test_predict = regr.predict(X_test)\n",
    "rmse = (np.sqrt(mean_squared_error(Y_test, y_test_predict)))\n",
    "r2 = r2_score(Y_test, y_test_predict)\n",
    "\n",
    "print(\"The model performance for testing set:\")\n",
    "print(\"\\n\")\n",
    "print('RMSE is {}'.format(rmse))\n",
    "print('R2 score is {}'.format(r2))"
   ]
  },
  {
   "cell_type": "code",
   "execution_count": 29,
   "metadata": {
    "scrolled": true
   },
   "outputs": [
    {
     "data": {
      "text/plain": [
       "<function matplotlib.pyplot.show(*args, **kw)>"
      ]
     },
     "execution_count": 29,
     "metadata": {},
     "output_type": "execute_result"
    },
    {
     "data": {
      "image/png": "[encoded data removed]",
      "text/plain": [
       "<Figure size 432x288 with 1 Axes>"
      ]
     },
     "metadata": {
      "needs_background": "light"
     },
     "output_type": "display_data"
    }
   ],
   "source": [
    "plt.scatter(Y_train,y_train_predict)\n",
    "plt.show"
   ]
  },
  {
   "cell_type": "code",
   "execution_count": 40,
   "metadata": {},
   "outputs": [
    {
     "data": {
      "text/plain": [
       "<function matplotlib.pyplot.show(*args, **kw)>"
      ]
     },
     "execution_count": 40,
     "metadata": {},
     "output_type": "execute_result"
    },
    {
     "data": {
      "image/png": "[encoded data removed]",
      "text/plain": [
       "<Figure size 432x288 with 1 Axes>"
      ]
     },
     "metadata": {
      "needs_background": "light"
     },
     "output_type": "display_data"
    }
   ],
   "source": [
    "plt.scatter(Y_test,y_test_predict)\n",
    "plt.show"
   ]
  },
  {
   "cell_type": "code",
   "execution_count": null,
   "metadata": {},
   "outputs": [],
   "source": []
  }
 ],
 "metadata": {
  "kernelspec": {
   "display_name": "Python 3",
   "language": "python",
   "name": "python3"
  },
  "language_info": {
   "codemirror_mode": {
    "name": "ipython",
    "version": 3
   },
   "file_extension": ".py",
   "mimetype": "text/x-python",
   "name": "python",
   "nbconvert_exporter": "python",
   "pygments_lexer": "ipython3",
   "version": "3.7.0"
  }
 },
 "nbformat": 4,
 "nbformat_minor": 2
}
